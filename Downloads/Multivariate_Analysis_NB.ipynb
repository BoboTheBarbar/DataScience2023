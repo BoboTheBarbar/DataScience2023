{
 "cells": [
  {
   "cell_type": "markdown",
   "metadata": {},
   "source": [
    "### Multivariate Analysis: Exercise\n",
    "This is the fifth practical exercise of our course [Data Science Bootcamp](https://open.hpi.de/courses/datascience2023).  \n",
    "In this exercise, we focus on conducting a multivariate analysis (or MVA) as outlined in the video. Make sure to watch it carefully before starting with this exercise.\n",
    "\n",
    "---\n",
    "\\\n",
    "Here is a reminder about the technical limitations on this programming platform **OpenJupyter**:\n",
    "\n",
    "#### Inactivity and Saving\n",
    "\n",
    "- After 15 minutes of inactivity, the Python kernel shuts down, but the kernel is easy to restart if you continue your work within 60 minutes.\n",
    "- After 60 minutes of inactivity the data is deleted to free up resources for other users.\n",
    "- Therefore, please save the notebook locally (click \"File\" -> \"Download\") if you are pausing your work on the notebook for more than one hour. (We have put a reminder to save the notebook after each task.)\n",
    "- If you have to restore your work from a downloaded notebook, press the Upload Button and select your locally saved `.ipynb` file (confirm to overwrite).\n",
    "\n",
    "#### Grading\n",
    "\n",
    "- Solve the nine tasks in this notebook and use the next learning item in the course (\"Solution sheet: MVA Quiz\") to insert your questions. Till the due date (which is **the 27th of June (11:55 pm / 23:55 UTC**), you can revise your answers. Only after the deadline, we will publish the results of this assignment, **after this due date**, you can discuss your answers and approach in the forum.\n",
    "---"
   ]
  },
  {
   "cell_type": "code",
   "execution_count": 1,
   "metadata": {},
   "outputs": [],
   "source": [
    "# Run this cell first\n",
    "from Ex5_Grader import *\n",
    "%matplotlib inline"
   ]
  },
  {
   "cell_type": "markdown",
   "metadata": {},
   "source": [
    "### General questions\n",
    "_Hint from your teaching team_: Find the following answers, by applying various data science techniques and functions to the ToyotaCorolla dataset, some of them from week 1, some of them from the EDA of week 2. Only guessing based on the previous video is not the correct approach."
   ]
  },
  {
   "cell_type": "code",
   "execution_count": 2,
   "metadata": {},
   "outputs": [],
   "source": [
    "# Do not change, delete or adapt this cell:\n",
    "import pandas as pd \n",
    "import numpy as np\n",
    "import seaborn as sns "
   ]
  },
  {
   "cell_type": "code",
   "execution_count": 3,
   "metadata": {},
   "outputs": [],
   "source": [
    "# Do not change, delete or adapt this cell:\n",
    "# Loading the csv dataset in a dataframe\n",
    "df = pd.read_csv('.ToyotaCorolla.csv')"
   ]
  },
  {
   "cell_type": "markdown",
   "metadata": {},
   "source": [
    "### Task 1: How many different columns does the ToyotaCorolla set have? (1P)\n",
    "\n",
    "Use dataframe functions to figure out the answer then simply insert the numerical value in ```columns_number```\n",
    "\n",
    "#### This question will be answered in the solution sheet quiz Question 1\n"
   ]
  },
  {
   "cell_type": "code",
   "execution_count": 5,
   "metadata": {},
   "outputs": [
    {
     "name": "stdout",
     "output_type": "stream",
     "text": [
      "36\n"
     ]
    }
   ],
   "source": [
    "def get_columns_number(df):\n",
    "    # Return the number of columns given a df\n",
    "\n",
    "    columns_number =  36\n",
    "    \n",
    "    return columns_number\n",
    "\n",
    "columns_number = get_columns_number(df)\n",
    "print(columns_number)"
   ]
  },
  {
   "cell_type": "markdown",
   "metadata": {},
   "source": [
    "If you want to test your solution, you can execute the following code cell.\n",
    "If your solution passes our test, it will simply print `Test passed.`\n",
    "If it does not work, you will get an error.\n",
    "In this case you need to fix the code above.\n",
    "(And do not forget to run the above code cell again!)"
   ]
  },
  {
   "cell_type": "code",
   "execution_count": 6,
   "metadata": {},
   "outputs": [
    {
     "name": "stdout",
     "output_type": "stream",
     "text": [
      "Tests Passed, Well Done 👏\n"
     ]
    }
   ],
   "source": [
    "test_get_columns_number(columns_number)"
   ]
  },
  {
   "cell_type": "markdown",
   "metadata": {},
   "source": [
    "### Task 2: How many individual cars are in the dataset? 1P\n",
    "\n",
    "Use dataframe functions to figure out the answer then simply insert the numerical value in ```cars```\n",
    "\n",
    "#### This question will be answered in the solution sheet quiz Question 2"
   ]
  },
  {
   "cell_type": "code",
   "execution_count": 7,
   "metadata": {
    "tags": []
   },
   "outputs": [
    {
     "name": "stdout",
     "output_type": "stream",
     "text": [
      "1427\n"
     ]
    }
   ],
   "source": [
    "def get_cars_number(df):\n",
    "    # Return the number of individual cars given a df\n",
    "\n",
    "    cars = 1427\n",
    "    \n",
    "    return cars\n",
    "\n",
    "cars = get_cars_number(df)\n",
    "print(cars)"
   ]
  },
  {
   "cell_type": "markdown",
   "metadata": {},
   "source": [
    "If you want to test your solution, you can execute the following code cell.\n",
    "If your solution passes our test, it will simply print `Test passed.`\n",
    "If it does not work, you will get an error.\n",
    "In this case you need to fix the code above.\n",
    "(And do not forget to run the above code cell again!)"
   ]
  },
  {
   "cell_type": "code",
   "execution_count": 8,
   "metadata": {},
   "outputs": [
    {
     "name": "stdout",
     "output_type": "stream",
     "text": [
      "Tests Passed, Well Done 👏\n"
     ]
    }
   ],
   "source": [
    "test_get_cars_number(cars)"
   ]
  },
  {
   "cell_type": "markdown",
   "metadata": {},
   "source": [
    "### Task 3: How many unique models of cars are present? (2P)\n",
    "\n",
    "Note: *Models* refers to the variants of cars, not to the *statistical* term 'model'. \n",
    "\n",
    "This task might be a little bit tricky and it is maybe necessary to consult your favorite search engine.  \n",
    "Please, do not reveal straight-up answers in the forum. \n",
    "\n",
    "Think of it like a real-case scenario: You know enough about the data set and Python. Now, you have to fulfill a clients' request by finding the correct approach in the libraries numpy or pandas.  \n",
    "To end on a good note and give you motivation: It's a short code snippet, and not some crazy loop or iteration - although that obiviously works as well.  \n",
    "\n",
    "In case you need help, at the very end of the notebook, some further hints are noted.  \n",
    "You got this!\n",
    "\n",
    "#### This question will be answered in the solution sheet quiz Question 3"
   ]
  },
  {
   "cell_type": "code",
   "execution_count": 23,
   "metadata": {},
   "outputs": [
    {
     "name": "stdout",
     "output_type": "stream",
     "text": [
      "371\n"
     ]
    }
   ],
   "source": [
    "def get_unique_models(df):\n",
    "    # Return the number of unique models of cars given a df\n",
    "    unique_models =  371\n",
    "\n",
    "    return unique_models\n",
    "\n",
    "unique_models = get_unique_models(df)\n",
    "print(unique_models)"
   ]
  },
  {
   "cell_type": "markdown",
   "metadata": {},
   "source": [
    "If you want to test your solution, you can execute the following code cell.\n",
    "If your solution passes our test, it will simply print `Test passed.`\n",
    "If it does not work, you will get an error.\n",
    "In this case you need to fix the code above.\n",
    "(And do not forget to run the above code cell again!)"
   ]
  },
  {
   "cell_type": "code",
   "execution_count": 25,
   "metadata": {},
   "outputs": [
    {
     "name": "stdout",
     "output_type": "stream",
     "text": [
      "Tests Passed, Well Done 👏\n"
     ]
    }
   ],
   "source": [
    "test_get_unique_models(unique_models)"
   ]
  },
  {
   "cell_type": "markdown",
   "metadata": {},
   "source": [
    "### Task 4: Would the variable \"gears\" be a good input variable for an MVA? 1P  \n",
    "\n",
    "Hint: Remember how we evaluated this in the video. You can choose the same approach, or find another one.   \n",
    "For the sake of your learning progress and to prepare you for more difficult tasks later, *don't guess it*, but find a data science approach to it.\n",
    "\n",
    "#### This question will be answered in the solution sheet quiz Question 4"
   ]
  },
  {
   "cell_type": "code",
   "execution_count": 36,
   "metadata": {},
   "outputs": [
    {
     "data": {
      "text/plain": [
       "0.0539406486107324"
      ]
     },
     "execution_count": 36,
     "metadata": {},
     "output_type": "execute_result"
    },
    {
     "data": {
      "image/png": "[encoded data removed]",
      "text/plain": [
       "<Figure size 432x288 with 1 Axes>"
      ]
     },
     "metadata": {
      "needs_background": "light"
     },
     "output_type": "display_data"
    }
   ],
   "source": [
    "import seaborn as sns\n",
    "\n",
    "# Graphical solution\n",
    "gears_df = df[['Price', 'Gears']]\n",
    "sns.scatterplot(data=df, x='Gears', y='Price', hue='Age')\n",
    "\n",
    "# Mathematical solution\n",
    "df['Price'].corr(df['Gears'])"
   ]
  },
  {
   "cell_type": "markdown",
   "metadata": {},
   "source": [
    "#### *Friendly reminder to create a local **backup** of this notebook*"
   ]
  },
  {
   "cell_type": "markdown",
   "metadata": {},
   "source": [
    "## The MVA task\n",
    "\n",
    "Your main task now is building a multivariate model predicting the **price** of a car, as outlined in the video. \n",
    "\n",
    "Make sure to also check the previous text item! If you need more than the following cells, use the debugging cells at the end of the notebook. \n",
    "\n",
    "You might want to use df.info() to get an overview of the data first for instance\n",
    "\n",
    "---\n",
    "\n",
    "Now, build an MVA predicting the price of a car with the following variables:  \n",
    "\n",
    "- The Age of the car \n",
    "- the total kilometers driven \n",
    "- existence of powered windows\n",
    "- number of doors\n",
    "- having a central lock (or not)\n",
    "\n",
    "-----"
   ]
  },
  {
   "cell_type": "markdown",
   "metadata": {},
   "source": [
    "### We start by preparing our data"
   ]
  },
  {
   "cell_type": "code",
   "execution_count": 12,
   "metadata": {
    "collapsed": false,
    "jupyter": {
     "outputs_hidden": false
    }
   },
   "outputs": [],
   "source": [
    "# Set price as the y - variable (output):\n",
    "## FILLED BY YOU\n",
    "y=df['Price']\n",
    "## Choose a set of X's - reasons that influence the price of a car (Make sure to follow the order mentioned above)\n",
    "## FILLED BY YOU\n",
    "feature_list = ['Age', 'KM', 'Powered_Windows', 'Doors', 'Central_Lock']\n",
    "X=df[feature_list].values"
   ]
  },
  {
   "cell_type": "markdown",
   "metadata": {},
   "source": [
    "### Now, Let's build our estimator model, that takes various independent (='input') variables and predicts the price, using a multivariate regression.\n"
   ]
  },
  {
   "cell_type": "code",
   "execution_count": 13,
   "metadata": {},
   "outputs": [
    {
     "data": {
      "text/plain": [
       "LinearRegression()"
      ]
     },
     "execution_count": 13,
     "metadata": {},
     "output_type": "execute_result"
    }
   ],
   "source": [
    "# We start by importing our model from the sklearn library\n",
    "from sklearn import linear_model\n",
    "\n",
    "# Intitialize a linear regression model and fit it to your data\n",
    "regr = linear_model.LinearRegression()\n",
    "regr.fit(X,y)"
   ]
  },
  {
   "cell_type": "markdown",
   "metadata": {},
   "source": [
    "## Now that you have created your model and have your X and Y data prepared above\n",
    "\n",
    "### Task 5: Predict the price of a car, that has 108.000 kilometers, is 64 months old, has no powered windows with 3 doors and a central lock? 1P\n",
    "\n",
    "*Please don't change the name of the variable mentioned in the cell and provide the output coming directly from your model*\n",
    "\n",
    "#### This question will be answered in the solution sheet quiz Question 5\n"
   ]
  },
  {
   "cell_type": "code",
   "execution_count": 14,
   "metadata": {},
   "outputs": [
    {
     "name": "stdout",
     "output_type": "stream",
     "text": [
      "[8766.504319]\n"
     ]
    }
   ],
   "source": [
    "# Input the values given to your regression model and print the predicted price\n",
    "pricePrediction1 = regr.predict([[64, 108000, 0, 3, 1]])\n",
    "print (pricePrediction1)\n",
    "# Output should look something like this\n",
    "# [11111.11111]  <--- Obviously this is not the right answer ;)"
   ]
  },
  {
   "cell_type": "markdown",
   "metadata": {},
   "source": [
    "### Task 6: Predict the price of the same car, but with five doors. 1P\n",
    "*Please don't change the name of the variable mentioned in the cell and provide the output coming directly from your model*\n",
    "\n",
    "#### This question will be answered in the solution sheet quiz Question 6"
   ]
  },
  {
   "cell_type": "code",
   "execution_count": 7,
   "metadata": {},
   "outputs": [
    {
     "name": "stdout",
     "output_type": "stream",
     "text": [
      "[9230.26544031]\n"
     ]
    }
   ],
   "source": [
    "pricePrediction2 = regr.predict([[64, 108000, 0, 5, 1]])\n",
    "print (pricePrediction2)"
   ]
  },
  {
   "cell_type": "markdown",
   "metadata": {},
   "source": [
    "### Task 7: Which price would the model predict for that same car as in Task 6, but WITHOUT powered windows and no central lock? 1P\n",
    "*Please don't change the name of the variable mentioned in the cell and provide the output coming directly from your model*\n",
    "\n",
    "#### This question will be answered in the solution sheet quiz Question 7"
   ]
  },
  {
   "cell_type": "code",
   "execution_count": 8,
   "metadata": {},
   "outputs": [
    {
     "name": "stdout",
     "output_type": "stream",
     "text": [
      "[8908.15110133]\n"
     ]
    }
   ],
   "source": [
    "pricePrediction3 = regr.predict([[64, 108000, 0, 5, 0]])\n",
    "print (pricePrediction3)"
   ]
  },
  {
   "cell_type": "markdown",
   "metadata": {},
   "source": [
    "If you want to test your solution for tasks 5,6 and 7, you can execute the following code cell.\n",
    "If your solution passes our test, it will simply print `Test passed.`\n",
    "If it does not work, you will get an error.\n",
    "In this case you need to fix the code above.\n",
    "(And do not forget to run the above code cell again!)"
   ]
  },
  {
   "cell_type": "code",
   "execution_count": 9,
   "metadata": {},
   "outputs": [
    {
     "name": "stdout",
     "output_type": "stream",
     "text": [
      "Tests Passed, Well Done 👏\n"
     ]
    }
   ],
   "source": [
    "MVA_grader(pricePrediction1, pricePrediction2, pricePrediction3)"
   ]
  },
  {
   "cell_type": "markdown",
   "metadata": {},
   "source": [
    "## Now that our model is working and have used it to predict some values already, lets calculate the coefficients of this five-variable model.\n",
    "\n",
    "### Make sure you got this command in your toolkit, we surely need it later in the course."
   ]
  },
  {
   "cell_type": "code",
   "execution_count": 10,
   "metadata": {},
   "outputs": [
    {
     "name": "stdout",
     "output_type": "stream",
     "text": [
      "[-1.26534829e+02 -1.99795588e-02  5.81728806e+02  2.31880561e+02\n",
      "  3.22114339e+02]\n"
     ]
    }
   ],
   "source": [
    "# What are the coefficients ?\n",
    "print(regr.coef_)"
   ]
  },
  {
   "cell_type": "markdown",
   "metadata": {},
   "source": [
    "### Task 8: Interpret the meaning behind the coefficient values for each of the five variables (4P)\n",
    "#### This question will be answered in the solution sheet quiz Question 8, so have a good look and get ready to explain the logic behind the numbers. :-)\n",
    "\n",
    "If you can't make sense of the notation, you want to learn about the \"scientific notation\", e.g. in through this [Wikipedia article](https://en.wikipedia.org/wiki/Scientific_notation).  \n",
    "\n",
    "Additionally, here is a command to change the _view_ of a numpy n-dimensional array (ndarray) to a better readable float format."
   ]
  },
  {
   "cell_type": "code",
   "execution_count": 11,
   "metadata": {},
   "outputs": [
    {
     "name": "stdout",
     "output_type": "stream",
     "text": [
      "[-126.530000 -0.020000 581.730000 231.880000 322.110000]\n"
     ]
    }
   ],
   "source": [
    "# Changes the view - does not transform! - the array.\n",
    "np.set_printoptions(formatter={'float_kind':'{:f}'.format})\n",
    "\n",
    "# Rounding to two decimal points.\n",
    "print(np.around(regr.coef_,2))"
   ]
  },
  {
   "cell_type": "markdown",
   "metadata": {},
   "source": [
    "#### remember the order of your X features mentioned at the beginning of the task"
   ]
  },
  {
   "cell_type": "markdown",
   "metadata": {},
   "source": [
    "### Task 9: Why are these coefficients different from the ones you saw in the video? (1P)\n",
    "#### This question will be answered in the solution sheet quiz Question 9\n",
    "\n",
    "----"
   ]
  },
  {
   "cell_type": "markdown",
   "metadata": {},
   "source": [
    "### What about if we enter an input of all-zeros?? Can the model really predict such a case? Does it even make sense?"
   ]
  },
  {
   "cell_type": "markdown",
   "metadata": {},
   "source": [
    "Finally, we ask you to think about the special case of the video, having a model that inputs `([[0, 0, 0, 0, 0]])` into our new pricePrediction.  \n",
    "What is that about? Feel free to think about it and apply this input to your new MVA.  \n",
    "\n",
    "In the video, we asked about the special case, if we had a car, that is undriven and unused. In other words, we are looking for a car, that inserts only zeros in our new multivariate model.  \n",
    "Again, we prepared a hint at the end of this notebook.\n",
    "\n",
    "----"
   ]
  },
  {
   "cell_type": "markdown",
   "metadata": {},
   "source": [
    "# Grading Tasks 1-9 excluding (Tasks: 4, 8 and 9)\n",
    "\n",
    "*Reminder: before you start grading the tasks, it might be a good time to save the notebook locally as well (click \"File\" -> \"Download\").*\n",
    "\n",
    "Please follow these instructions before you run the below code cell to grade the tasks 1 through 9:\n",
    "\n",
    "- Check that you have not modified the **Test case** code cells.\n",
    "- Check that you have **not created** new cells and **not deleted** existing cells in this notebook. (Otherwise the grading process might fail despite you having the correct solution, since it depends on the original order of notebook cell.)\n",
    "- Save (CTRL + S) your notebook everytime you want to have your tasks graded, the grader uses the last saved version.\n",
    "\n",
    "If you have done all the above, run the code cell below to run the grading process.\n",
    "Once that is done, click the \"Submit Assignment\" button and confirm your submission."
   ]
  },
  {
   "cell_type": "code",
   "execution_count": 15,
   "metadata": {},
   "outputs": [
    {
     "name": "stdout",
     "output_type": "stream",
     "text": [
      "\u001b[34m╭─\u001b[0m\u001b[34m \u001b[0m\u001b[1;34mNote\u001b[0m\u001b[34m \u001b[0m\u001b[34m──────────────────────────────────────────────────────────────────────\u001b[0m\u001b[34m─╮\u001b[0m\n",
      "\u001b[34m│\u001b[0m \u001b[1mPlease make sure you have the correct notebook name for a successful grading\u001b[0m \u001b[34m│\u001b[0m\n",
      "\u001b[34m╰──────────────────────────────────────────────────────────────────────────────╯\u001b[0m\n",
      "\u001b[34m╭──────────────────────────────────────────────────────────────────────────────╮\u001b[0m\n",
      "\u001b[34m│\u001b[0m Notebook name received: \u001b[1m./Multivariate_Analysis.ipynb\u001b[0m                        \u001b[34m│\u001b[0m\n",
      "\u001b[34m╰──────────────────────────────────────────────────────────────────────────────╯\u001b[0m\n",
      "\n",
      "\u001b[1;34mTesting your solution for Task \u001b[0m\u001b[1;34m1\u001b[0m\u001b[1;34m:\u001b[0m \u001b[1;30mHow many different columns does the \u001b[0m\n",
      "\u001b[1;30mToyotaCorolla set have?\u001b[0m\n",
      "\u001b[32mTask \u001b[0m\u001b[1;32m1\u001b[0m\u001b[32m: passed. ✅\u001b[0m\n",
      "\n",
      "\u001b[1;34mTesting your solution for Task \u001b[0m\u001b[1;34m2\u001b[0m\u001b[1;34m:\u001b[0m \u001b[1;30mHow many individual cars are in the dataset?\u001b[0m\n",
      "\u001b[32mTask \u001b[0m\u001b[1;32m2\u001b[0m\u001b[32m: passed. ✅\u001b[0m\n",
      "\n",
      "\u001b[1;34mTesting your solution for Task \u001b[0m\u001b[1;34m3\u001b[0m\u001b[1;34m:\u001b[0m \u001b[1;30mHow many unique models of cars are present?\u001b[0m\n",
      "\u001b[32mTask \u001b[0m\u001b[1;32m3\u001b[0m\u001b[32m: passed. ✅\u001b[0m\n",
      "\n",
      "\u001b[1;34mTesting your solution for Task \u001b[0m\u001b[1;34m567\u001b[0m\u001b[1;34m:\u001b[0m \u001b[1;30mMVA car price predictions\u001b[0m\n",
      "\u001b[32mTask \u001b[0m\u001b[1;32m5\u001b[0m\u001b[32m, \u001b[0m\u001b[1;32m6\u001b[0m\u001b[32m and \u001b[0m\u001b[1;32m7\u001b[0m\u001b[32m: passed. ✅\u001b[0m\n",
      "\n",
      "╭─────────────────────────────────── \u001b[1mScore\u001b[0m ────────────────────────────────────╮\n",
      "│ Your score is: \u001b[1;32m7.0\u001b[0m / \u001b[1;34m7.0\u001b[0m                                                     │\n",
      "╰──────────────────────────────────────────────────────────────────────────────╯\n"
     ]
    },
    {
     "data": {
      "application/vnd.jupyter.widget-view+json": {
       "model_id": "a28e8ef3d13644258410bb6050f69a9b",
       "version_major": 2,
       "version_minor": 0
      },
      "text/plain": [
       "Button(button_style='success', description='Submit Assignment', style=ButtonStyle(), tooltip='https://jupyterh…"
      ]
     },
     "metadata": {},
     "output_type": "display_data"
    },
    {
     "data": {
      "application/vnd.jupyter.widget-view+json": {
       "model_id": "09071c98a5804501837210cbc6381abf",
       "version_major": 2,
       "version_minor": 0
      },
      "text/plain": [
       "Output()"
      ]
     },
     "metadata": {},
     "output_type": "display_data"
    }
   ],
   "source": [
    "# Make sure the notebook name is unchanged\n",
    "!python3 Ex5_Grader.pyc\n",
    "%run -i .button.py"
   ]
  },
  {
   "cell_type": "markdown",
   "metadata": {},
   "source": [
    "# Draft Cells\n",
    "\n",
    "Feel free to add as many cells bellow here and try differnt code."
   ]
  },
  {
   "cell_type": "code",
   "execution_count": 13,
   "metadata": {},
   "outputs": [
    {
     "name": "stdout",
     "output_type": "stream",
     "text": [
      "<class 'pandas.core.frame.DataFrame'>\n",
      "RangeIndex: 1427 entries, 0 to 1426\n",
      "Data columns (total 36 columns):\n",
      " #   Column            Non-Null Count  Dtype \n",
      "---  ------            --------------  ----- \n",
      " 0   Id                1427 non-null   int64 \n",
      " 1   Model             1427 non-null   object\n",
      " 2   Price             1427 non-null   int64 \n",
      " 3   Age               1427 non-null   int64 \n",
      " 4   Mfg_Month         1427 non-null   int64 \n",
      " 5   Mfg_Year          1427 non-null   int64 \n",
      " 6   KM                1427 non-null   int64 \n",
      " 7   Fuel_Type         1427 non-null   object\n",
      " 8   HP                1427 non-null   int64 \n",
      " 9   Met_Color         1427 non-null   int64 \n",
      " 10  Automatic         1427 non-null   int64 \n",
      " 11  cc                1427 non-null   int64 \n",
      " 12  Doors             1427 non-null   int64 \n",
      " 13  Cylinders         1427 non-null   int64 \n",
      " 14  Gears             1427 non-null   int64 \n",
      " 15  Quarterly_Tax     1427 non-null   int64 \n",
      " 16  Weight            1427 non-null   int64 \n",
      " 17  Mfr_Guarantee     1427 non-null   int64 \n",
      " 18  BOVAG_Guarantee   1427 non-null   int64 \n",
      " 19  Guarantee_Period  1427 non-null   int64 \n",
      " 20  ABS               1427 non-null   int64 \n",
      " 21  Airbag_1          1427 non-null   int64 \n",
      " 22  Airbag_2          1427 non-null   int64 \n",
      " 23  Airco             1427 non-null   int64 \n",
      " 24  Automatic_airco   1427 non-null   int64 \n",
      " 25  Boardcomputer     1427 non-null   int64 \n",
      " 26  Central_Lock      1427 non-null   int64 \n",
      " 27  Powered_Windows   1427 non-null   int64 \n",
      " 28  Power_Steering    1427 non-null   int64 \n",
      " 29  Radio             1427 non-null   int64 \n",
      " 30  Mistlamps         1427 non-null   int64 \n",
      " 31  Sport_Model       1427 non-null   int64 \n",
      " 32  Backseat_Divider  1427 non-null   int64 \n",
      " 33  Metallic_Rim      1427 non-null   int64 \n",
      " 34  Radio_cassette    1427 non-null   int64 \n",
      " 35  Tow_Bar           1427 non-null   int64 \n",
      "dtypes: int64(34), object(2)\n",
      "memory usage: 401.5+ KB\n"
     ]
    }
   ],
   "source": [
    "df.info()"
   ]
  },
  {
   "cell_type": "code",
   "execution_count": 15,
   "metadata": {},
   "outputs": [
    {
     "data": {
      "text/html": [
       "<div>\n",
       "<style scoped>\n",
       "    .dataframe tbody tr th:only-of-type {\n",
       "        vertical-align: middle;\n",
       "    }\n",
       "\n",
       "    .dataframe tbody tr th {\n",
       "        vertical-align: top;\n",
       "    }\n",
       "\n",
       "    .dataframe thead th {\n",
       "        text-align: right;\n",
       "    }\n",
       "</style>\n",
       "<table border=\"1\" class=\"dataframe\">\n",
       "  <thead>\n",
       "    <tr style=\"text-align: right;\">\n",
       "      <th></th>\n",
       "      <th>Id</th>\n",
       "    </tr>\n",
       "    <tr>\n",
       "      <th>Model</th>\n",
       "      <th></th>\n",
       "    </tr>\n",
       "  </thead>\n",
       "  <tbody>\n",
       "    <tr>\n",
       "      <th>?TOYOTA Corolla 1.3 16V HATCHB G6 2/3-Doors</th>\n",
       "      <td>2</td>\n",
       "    </tr>\n",
       "    <tr>\n",
       "      <th>?TOYOTA Corolla 1.3 16V HATCHB LINEA TERRA 2/3-Doors</th>\n",
       "      <td>1</td>\n",
       "    </tr>\n",
       "    <tr>\n",
       "      <th>?TOYOTA Corolla 1.3 16V WAGON LINEA TERRA Stationwagen</th>\n",
       "      <td>1</td>\n",
       "    </tr>\n",
       "    <tr>\n",
       "      <th>?TOYOTA Corolla 1.3 Linea Terra liftback 4/5-Doors</th>\n",
       "      <td>1</td>\n",
       "    </tr>\n",
       "    <tr>\n",
       "      <th>?TOYOTA Corolla 1.4 16V VVT I 3DR 2/3-Doors</th>\n",
       "      <td>2</td>\n",
       "    </tr>\n",
       "    <tr>\n",
       "      <th>...</th>\n",
       "      <td>...</td>\n",
       "    </tr>\n",
       "    <tr>\n",
       "      <th>TOYOTA Corolla Linea Luna 1.6i 16V 2/3-Doors</th>\n",
       "      <td>1</td>\n",
       "    </tr>\n",
       "    <tr>\n",
       "      <th>TOYOTA Corolla Luna 5drs D4D116 PK 4/5-Doors</th>\n",
       "      <td>1</td>\n",
       "    </tr>\n",
       "    <tr>\n",
       "      <th>TOYOTA Corolla Sw 20D Linea Terra Stationwagen</th>\n",
       "      <td>1</td>\n",
       "    </tr>\n",
       "    <tr>\n",
       "      <th>TOYOTA Corolla VERSO 2.0 D4D LINEA SOL MPV</th>\n",
       "      <td>1</td>\n",
       "    </tr>\n",
       "    <tr>\n",
       "      <th>TOYOTA Corolla VERSO 2.0 D4D SOL (7) MPV</th>\n",
       "      <td>2</td>\n",
       "    </tr>\n",
       "  </tbody>\n",
       "</table>\n",
       "<p>371 rows × 1 columns</p>\n",
       "</div>"
      ],
      "text/plain": [
       "                                                    Id\n",
       "Model                                                 \n",
       "?TOYOTA Corolla 1.3 16V HATCHB G6 2/3-Doors          2\n",
       "?TOYOTA Corolla 1.3 16V HATCHB LINEA TERRA 2/3-...   1\n",
       "?TOYOTA Corolla 1.3 16V WAGON LINEA TERRA Stati...   1\n",
       "?TOYOTA Corolla 1.3 Linea Terra liftback 4/5-Doors   1\n",
       "?TOYOTA Corolla 1.4 16V VVT I 3DR 2/3-Doors          2\n",
       "...                                                 ..\n",
       "TOYOTA Corolla Linea Luna 1.6i 16V 2/3-Doors         1\n",
       "TOYOTA Corolla Luna 5drs D4D116 PK 4/5-Doors         1\n",
       "TOYOTA Corolla Sw 20D Linea Terra Stationwagen       1\n",
       "TOYOTA Corolla VERSO 2.0 D4D LINEA SOL MPV           1\n",
       "TOYOTA Corolla VERSO 2.0 D4D SOL (7) MPV             2\n",
       "\n",
       "[371 rows x 1 columns]"
      ]
     },
     "execution_count": 15,
     "metadata": {},
     "output_type": "execute_result"
    }
   ],
   "source": [
    "df[['Model', 'Id']].groupby('Model').count()"
   ]
  },
  {
   "cell_type": "code",
   "execution_count": 22,
   "metadata": {},
   "outputs": [
    {
     "data": {
      "text/html": [
       "<div>\n",
       "<style scoped>\n",
       "    .dataframe tbody tr th:only-of-type {\n",
       "        vertical-align: middle;\n",
       "    }\n",
       "\n",
       "    .dataframe tbody tr th {\n",
       "        vertical-align: top;\n",
       "    }\n",
       "\n",
       "    .dataframe thead th {\n",
       "        text-align: right;\n",
       "    }\n",
       "</style>\n",
       "<table border=\"1\" class=\"dataframe\">\n",
       "  <thead>\n",
       "    <tr style=\"text-align: right;\">\n",
       "      <th></th>\n",
       "    </tr>\n",
       "    <tr>\n",
       "      <th>Model</th>\n",
       "    </tr>\n",
       "  </thead>\n",
       "  <tbody>\n",
       "    <tr>\n",
       "      <th>?TOYOTA Corolla 1.3 16V HATCHB G6 2/3-Doors</th>\n",
       "    </tr>\n",
       "    <tr>\n",
       "      <th>?TOYOTA Corolla 1.3 16V HATCHB LINEA TERRA 2/3-Doors</th>\n",
       "    </tr>\n",
       "    <tr>\n",
       "      <th>?TOYOTA Corolla 1.3 16V WAGON LINEA TERRA Stationwagen</th>\n",
       "    </tr>\n",
       "    <tr>\n",
       "      <th>?TOYOTA Corolla 1.3 Linea Terra liftback 4/5-Doors</th>\n",
       "    </tr>\n",
       "    <tr>\n",
       "      <th>?TOYOTA Corolla 1.4 16V VVT I 3DR 2/3-Doors</th>\n",
       "    </tr>\n",
       "    <tr>\n",
       "      <th>...</th>\n",
       "    </tr>\n",
       "    <tr>\n",
       "      <th>TOYOTA Corolla Linea Luna 1.6i 16V 2/3-Doors</th>\n",
       "    </tr>\n",
       "    <tr>\n",
       "      <th>TOYOTA Corolla Luna 5drs D4D116 PK 4/5-Doors</th>\n",
       "    </tr>\n",
       "    <tr>\n",
       "      <th>TOYOTA Corolla Sw 20D Linea Terra Stationwagen</th>\n",
       "    </tr>\n",
       "    <tr>\n",
       "      <th>TOYOTA Corolla VERSO 2.0 D4D LINEA SOL MPV</th>\n",
       "    </tr>\n",
       "    <tr>\n",
       "      <th>TOYOTA Corolla VERSO 2.0 D4D SOL (7) MPV</th>\n",
       "    </tr>\n",
       "  </tbody>\n",
       "</table>\n",
       "<p>371 rows × 0 columns</p>\n",
       "</div>"
      ],
      "text/plain": [
       "Empty DataFrame\n",
       "Columns: []\n",
       "Index: [?TOYOTA Corolla 1.3 16V HATCHB G6 2/3-Doors, ?TOYOTA Corolla 1.3 16V HATCHB LINEA TERRA 2/3-Doors, ?TOYOTA Corolla 1.3 16V WAGON LINEA TERRA Stationwagen, ?TOYOTA Corolla 1.3 Linea Terra liftback 4/5-Doors, ?TOYOTA Corolla 1.4 16V VVT I 3DR 2/3-Doors, ?TOYOTA Corolla 1.4 16V VVT I 3DR TERRA COMFORT 2/3-Doors, ?TOYOTA Corolla 1.4 16V VVT I 5DR 4/5-Doors, ?TOYOTA Corolla 1.4 16V VVT I 5DR LUNA 4/5-Doors, ?TOYOTA Corolla 1.4 16V VVT I 5DR TERRA 4/5-Doors, ?TOYOTA Corolla 1.4 16V VVT I 5DR TERRA COMFORT 4/5-Doors, ?TOYOTA Corolla 1.4 16V VVT I HATCHB SOL 2/3-Doors, ?TOYOTA Corolla 1.4 16V VVT I HATCHB TERRA 2/3-Doors, ?TOYOTA Corolla 1.4 16V VVT I LIFTB LUNA 4/5-Doors, ?TOYOTA Corolla 1.4 16V VVT I LIFTB SOL 4/5-Doors, ?TOYOTA Corolla 1.4 16V VVT I LIFTB TERRA 4/5-Doors, ?TOYOTA Corolla 1.4 VVTI  (Nw type) 4/5-Doors, ?TOYOTA Corolla 1.4 VVTI Linea Terra 2/3-Doors, ?TOYOTA Corolla 1.4-16v VVT-i Linea Terra Comfort NIEUW AIRCO 4/5-Doors, ?TOYOTA Corolla 1.6 16V HATCHB LINEA TERRA 2/3-Doors, ?TOYOTA Corolla 1.6 16V HATCHB S 2/3-Doors, ?TOYOTA Corolla 1.6 16V LIFTB LINEA LUNA 4/5-Doors, ?TOYOTA Corolla 1.6 16V LIFTB LINEA TERRA 4/5-Doors, ?TOYOTA Corolla 1.6 16V VVT I 3DR SOL 2/3-Doors, ?TOYOTA Corolla 1.6 16V VVT I 3DR TERRA 2/3-Doors, ?TOYOTA Corolla 1.6 16V VVT I 3DR TERRA COMFORT 2/3-Doors, ?TOYOTA Corolla 1.6 16V VVT I 5DR SOL 4/5-Doors, ?TOYOTA Corolla 1.6 16V VVT I 5DR SOL AUT4 4/5-Doors, ?TOYOTA Corolla 1.6 16V VVT I 5DR TERRA 4/5-Doors, ?TOYOTA Corolla 1.6 16V VVT I 5DR TERRA AUT4 4/5-Doors, ?TOYOTA Corolla 1.6 16V VVT I 5DR TERRA COMF AUT 4/5-Doors, ?TOYOTA Corolla 1.6 16V VVT I 5DR TERRA COMFORT 4/5-Doors, ?TOYOTA Corolla 1.6 16V VVT I HATCHB G6 2/3-Doors, ?TOYOTA Corolla 1.6 16V VVT I HATCHB G6 4/5-Doors, ?TOYOTA Corolla 1.6 16V VVT I HATCHB SOL 2/3-Doors, ?TOYOTA Corolla 1.6 16V VVT I HATCHB TERRA 2/3-Doors, ?TOYOTA Corolla 1.6 16V VVT I HATCHB TERRA AUT4 2/3-Doors, ?TOYOTA Corolla 1.6 16V VVT I LIFTB LUNA 4/5-Doors, ?TOYOTA Corolla 1.6 16V VVT I LIFTB SOL 4/5-Doors, ?TOYOTA Corolla 1.6 16V VVT I LIFTB TERRA 4/5-Doors, ?TOYOTA Corolla 1.6 16V VVT I SEDAN TERRA 4/5-Doors, ?TOYOTA Corolla 1.6 16V VVT I SEDAN TERRA AUT4 4/5-Doors, ?TOYOTA Corolla 1.6 16V VVT I WAGON TERRA Stationwagen, ?TOYOTA Corolla 1.6 16v Linea Luna Stationwagen, ?TOYOTA Corolla 1.6 16v VVTi Linea Sol 4/5-Doors, ?TOYOTA Corolla 1.6 HB LINEA TERRA 2/3-Doors, ?TOYOTA Corolla 1.6 LB LINEA SOL 4/5-Doors, ?TOYOTA Corolla 1.6 SDN LINEA SOL 4/5-Doors, ?TOYOTA Corolla 1.6 SDN LINEA TERRA 4/5-Doors, ?TOYOTA Corolla 1.6 Terra LB Comf. 4/5-Doors, ?TOYOTA Corolla 1.6 VVT-i Linea Sol 4/5-Doors, ?TOYOTA Corolla 1.6 VVT-i Linea Terra Comfort 2/3-Doors, ?TOYOTA Corolla 1.6 VVTI Linea Terra Comfort 2/3-Doors, ?TOYOTA Corolla 1.6 VVTI Linea Terra liftback 4/5-Doors, ?TOYOTA Corolla 1.6 VVTi Terra Comfort 4/5-Doors, ?TOYOTA Corolla 1.6 terra comfort 5drs airco 4/5-Doors, ?TOYOTA Corolla 1.8 16V VVTLI 3DR T SPORT 2/3-Doors, ?TOYOTA Corolla 1.8 VVTL-i T-Sport 3-Drs 4/5-Doors, ?TOYOTA Corolla 1.9 D HATCHB SOL 2/3-Doors, ?TOYOTA Corolla 1.9 D HATCHB TERRA 2/3-Doors, ?TOYOTA Corolla 1.9 D LIFTB TERRA 4/5-Doors, ?TOYOTA Corolla 1.9 D SEDAN TERRA 4/5-Doors, ?TOYOTA Corolla 1800 T SPORT VVT I 2/3-Doors, ?TOYOTA Corolla 2.0 D4D 90 3DR SOL BNS 2/3-Doors, ?TOYOTA Corolla 2.0 D4D 90 3DR TERRA 2/3-Doors, ?TOYOTA Corolla 2.0 D4D 90 5DR SOL 4/5-Doors, ?TOYOTA Corolla 2.0 D4D 90 5DR TERRA COMFORT 4/5-Doors, ?TOYOTA Corolla 2.0 D4D HATCHB TERRA 2/3-Doors, ?TOYOTA Corolla 2.0 D4D Linea Terra Comfort 4/5-Doors, ?TOYOTA Corolla 2.0 DSL HATCHB LINEA TERRA 2/3-Doors, ?TOYOTA Corolla LIFTBACK 1.4 VVT-i LINEA TERRA 4/5-Doors, ?TOYOTA Corolla LIFTBACK 1.6 Linea terra 4/5-Doors, ?TOYOTA Corolla VERSO 2.0 D4D LINEA SOL MPV, ?TOYOTA Corolla VERSO 2.0 D4D SOL (7) BNS MPV, TOYOTA Corolla , TOYOTA Corolla ! 1.6-16v vvt-i sol airco sedan 4/5-Doors, TOYOTA Corolla 1 6-16v VVT-i Linea Terra Comfort Airco 5drs 4/5-Doors, TOYOTA Corolla 1.3 16V 2/3-Doors, TOYOTA Corolla 1.3 16V HATCHB 2/3-Doors, TOYOTA Corolla 1.3 16V HATCHB G6 2/3-Doors, TOYOTA Corolla 1.3 16V HATCHB LINEA LUNA 2/3-Doors, TOYOTA Corolla 1.3 16V HATCHB LINEA LUNA AUT3 2/3-Doors, TOYOTA Corolla 1.3 16V HATCHB LINEA TERRA 2/3-Doors, TOYOTA Corolla 1.3 16V HATCHB LINEA TERRA AUT3 2/3-Doors, TOYOTA Corolla 1.3 16V HATCHB S 2/3-Doors, TOYOTA Corolla 1.3 16V L. TERRA COMFORT 2/3-Doors, TOYOTA Corolla 1.3 16V LB Linea Luna 4/5-Doors, TOYOTA Corolla 1.3 16V LIFTB G6 4/5-Doors, TOYOTA Corolla 1.3 16V LIFTB LINEA LUNA 4/5-Doors, TOYOTA Corolla 1.3 16V LIFTB LINEA TERRA 4/5-Doors, TOYOTA Corolla 1.3 16V LIFTB LINEA TERRA AUT3 4/5-Doors, TOYOTA Corolla 1.3 16V Linea Terra 2/3-Doors, TOYOTA Corolla 1.3 16V Linea Terra 4/5-Doors, TOYOTA Corolla 1.3 16V Linea Terra Liftb 2/3-Doors, TOYOTA Corolla 1.3 16V Linea Terra Liftb 4/5-Doors, TOYOTA Corolla 1.3 16V SEDAN LINEA TERRA 4/5-Doors, TOYOTA Corolla 1.3 16V SEDAN LINEA TERRA AUT3 4/5-Doors, TOYOTA Corolla 1.3 16V WAGON LINEA LUNA Stationwagen, TOYOTA Corolla 1.3 16V WAGON LINEA TERRA Stationwagen, TOYOTA Corolla 1.3 16v linea terra , TOYOTA Corolla 1.3 3D Linea Terra 2/3-Doors, ...]\n",
       "\n",
       "[371 rows x 0 columns]"
      ]
     },
     "execution_count": 22,
     "metadata": {},
     "output_type": "execute_result"
    }
   ],
   "source": [
    "df[['Model']].groupby('Model').count()"
   ]
  },
  {
   "cell_type": "code",
   "execution_count": null,
   "metadata": {},
   "outputs": [],
   "source": []
  },
  {
   "cell_type": "markdown",
   "metadata": {},
   "source": [
    "----"
   ]
  },
  {
   "cell_type": "markdown",
   "metadata": {},
   "source": [
    "#### Hint for task 3: \n",
    "\n",
    " - First find out how many total entries there are (see task above).\n",
    "\n",
    " - How many different unique entries are there?\n",
    "\n",
    " - The keyword you want to search here is `unique`. Its in the name of the function ;)"
   ]
  },
  {
   "cell_type": "code",
   "execution_count": null,
   "metadata": {},
   "outputs": [],
   "source": []
  },
  {
   "cell_type": "code",
   "execution_count": null,
   "metadata": {},
   "outputs": [],
   "source": []
  },
  {
   "cell_type": "markdown",
   "metadata": {},
   "source": [
    "#### Hint: Only zeros input\n",
    "- As a hint, think about it from a reality point of view: How does this car even look like? Then, apply the mathematical knowledge as outlined in the video (last third proportion of the video)."
   ]
  },
  {
   "cell_type": "code",
   "execution_count": null,
   "metadata": {
    "collapsed": false,
    "jupyter": {
     "outputs_hidden": false
    }
   },
   "outputs": [],
   "source": []
  },
  {
   "cell_type": "code",
   "execution_count": null,
   "metadata": {
    "collapsed": false,
    "jupyter": {
     "outputs_hidden": false
    }
   },
   "outputs": [],
   "source": []
  }
 ],
 "metadata": {
  "kernelspec": {
   "display_name": "Python 3 (ipykernel)",
   "language": "python",
   "name": "python3"
  },
  "language_info": {
   "codemirror_mode": {
    "name": "ipython",
    "version": 3
   },
   "file_extension": ".py",
   "mimetype": "text/x-python",
   "name": "python",
   "nbconvert_exporter": "python",
   "pygments_lexer": "ipython3",
   "version": "3.9.7"
  }
 },
 "nbformat": 4,
 "nbformat_minor": 4
}
